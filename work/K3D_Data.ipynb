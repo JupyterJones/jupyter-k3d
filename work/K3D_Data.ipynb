{
 "cells": [
  {
   "cell_type": "code",
   "execution_count": 11,
   "metadata": {},
   "outputs": [
    {
     "name": "stdout",
     "output_type": "stream",
     "text": [
      "data.txt    HOW-TO.md\t K3D_Data.ipynb  MANIFEST.in\t   screenshot.png\r\n",
      "Dockerfile  index.ipynb  K3D.db\t\t README.md\t   setupbase.py\r\n",
      "docs\t    js\t\t lgtm.yml\t RELEASE.md\t   setup.cfg\r\n",
      "examples    k3d\t\t LICENSE.txt\t requirements.txt  setup.py\r\n"
     ]
    }
   ],
   "source": [
    "!ls /home/jovyan/K3D-jupyter"
   ]
  },
  {
   "cell_type": "code",
   "execution_count": 2,
   "metadata": {},
   "outputs": [
    {
     "name": "stdout",
     "output_type": "stream",
     "text": [
      "__init__.py  JAVA  K3D_Data.py\tpw  pwa  storms  test.txt\r\n"
     ]
    }
   ],
   "source": [
    "!ls  ../work/"
   ]
  },
  {
   "cell_type": "code",
   "execution_count": 3,
   "metadata": {},
   "outputs": [
    {
     "ename": "OperationalError",
     "evalue": "unable to open database file",
     "output_type": "error",
     "traceback": [
      "\u001b[0;31m---------------------------------------------------------------------------\u001b[0m",
      "\u001b[0;31mOperationalError\u001b[0m                          Traceback (most recent call last)",
      "\u001b[0;32m<ipython-input-3-0233720c9ec6>\u001b[0m in \u001b[0;36m<module>\u001b[0;34m()\u001b[0m\n\u001b[1;32m      2\u001b[0m \u001b[0msys\u001b[0m\u001b[0;34m.\u001b[0m\u001b[0mpath\u001b[0m\u001b[0;34m.\u001b[0m\u001b[0minsert\u001b[0m\u001b[0;34m(\u001b[0m\u001b[0;36m0\u001b[0m\u001b[0;34m,\u001b[0m \u001b[0;34m\"/home/jovyan\"\u001b[0m\u001b[0;34m)\u001b[0m\u001b[0;34m\u001b[0m\u001b[0m\n\u001b[1;32m      3\u001b[0m \u001b[0;32mfrom\u001b[0m \u001b[0mwork\u001b[0m\u001b[0;34m.\u001b[0m\u001b[0mK3D_Data\u001b[0m \u001b[0;32mimport\u001b[0m \u001b[0;34m*\u001b[0m\u001b[0;34m\u001b[0m\u001b[0m\n\u001b[0;32m----> 4\u001b[0;31m \u001b[0mcreate\u001b[0m\u001b[0;34m(\u001b[0m\u001b[0;34m)\u001b[0m\u001b[0;34m\u001b[0m\u001b[0m\n\u001b[0m",
      "\u001b[0;32m~/work/K3D_Data.py\u001b[0m in \u001b[0;36mcreate\u001b[0;34m()\u001b[0m\n\u001b[1;32m     18\u001b[0m \u001b[0;32mdef\u001b[0m \u001b[0mcreate\u001b[0m\u001b[0;34m(\u001b[0m\u001b[0;34m)\u001b[0m\u001b[0;34m:\u001b[0m\u001b[0;34m\u001b[0m\u001b[0m\n\u001b[1;32m     19\u001b[0m     \u001b[0;32mimport\u001b[0m \u001b[0msqlite3\u001b[0m\u001b[0;34m\u001b[0m\u001b[0m\n\u001b[0;32m---> 20\u001b[0;31m     \u001b[0mconn\u001b[0m \u001b[0;34m=\u001b[0m \u001b[0msqlite3\u001b[0m\u001b[0;34m.\u001b[0m\u001b[0mconnect\u001b[0m\u001b[0;34m(\u001b[0m\u001b[0;34m\"../work/K3D.db\"\u001b[0m\u001b[0;34m)\u001b[0m\u001b[0;34m\u001b[0m\u001b[0m\n\u001b[0m\u001b[1;32m     21\u001b[0m     \u001b[0mconn\u001b[0m\u001b[0;34m.\u001b[0m\u001b[0mtext_factory\u001b[0m \u001b[0;34m=\u001b[0m \u001b[0mstr\u001b[0m\u001b[0;34m\u001b[0m\u001b[0m\n\u001b[1;32m     22\u001b[0m     \u001b[0mc\u001b[0m \u001b[0;34m=\u001b[0m \u001b[0mconn\u001b[0m\u001b[0;34m.\u001b[0m\u001b[0mcursor\u001b[0m\u001b[0;34m(\u001b[0m\u001b[0;34m)\u001b[0m\u001b[0;34m\u001b[0m\u001b[0m\n",
      "\u001b[0;31mOperationalError\u001b[0m: unable to open database file"
     ]
    }
   ],
   "source": [
    "import sys\n",
    "sys.path.insert(0, \"/home/jovyan\")\n",
    "from work.K3D_Data import *\n",
    "create()"
   ]
  },
  {
   "cell_type": "code",
   "execution_count": 5,
   "metadata": {},
   "outputs": [
    {
     "name": "stdout",
     "output_type": "stream",
     "text": [
      "cp: cannot create regular file '../work/K3D_Data.ipynb': Permission denied\r\n"
     ]
    }
   ],
   "source": [
    "!cp K3D_Data.ipynb ../work"
   ]
  },
  {
   "cell_type": "code",
   "execution_count": 2,
   "metadata": {},
   "outputs": [
    {
     "name": "stdout",
     "output_type": "stream",
     "text": [
      "\n",
      "POST VERIFIED:\n",
      " 3 \n",
      "This is third\n",
      "Three line \n",
      "TEST\n",
      "\n"
     ]
    },
    {
     "data": {
      "text/plain": [
       "'\\nThis is third\\nThree line \\nTEST\\n'"
      ]
     },
     "execution_count": 2,
     "metadata": {},
     "output_type": "execute_result"
    }
   ],
   "source": [
    "import sys\n",
    "sys.path.insert(0, \"/home/jovyan\")\n",
    "from work.K3D_Data import *\n",
    "\n",
    "TEXT = \"\"\"\n",
    "This is third\n",
    "Three line \n",
    "TEST\n",
    "\"\"\"\n",
    "insert(TEXT)"
   ]
  },
  {
   "cell_type": "code",
   "execution_count": 5,
   "metadata": {},
   "outputs": [
    {
     "data": {
      "text/plain": [
       "'ROWID 3 Deleted'"
      ]
     },
     "execution_count": 5,
     "metadata": {},
     "output_type": "execute_result"
    }
   ],
   "source": [
    "import sys\n",
    "sys.path.insert(0, \"/home/jovyan\")\n",
    "from work.K3D_Data import *\n",
    "rowid = str(3)\n",
    "delete(rowid)"
   ]
  },
  {
   "cell_type": "code",
   "execution_count": 2,
   "metadata": {},
   "outputs": [
    {
     "name": "stdout",
     "output_type": "stream",
     "text": [
      "Detail Search: second\n",
      "2 :  \n",
      "This is second \n",
      "Three line \n",
      "TEST\n",
      "\n"
     ]
    }
   ],
   "source": [
    "import sys\n",
    "sys.path.insert(0, \"/home/jovyan\")\n",
    "from work.K3D_Data import *\n",
    "Dsearch()"
   ]
  },
  {
   "cell_type": "code",
   "execution_count": 7,
   "metadata": {},
   "outputs": [],
   "source": [
    "import sys\n",
    "sys.path.insert(0, \"/home/jovyan\")\n",
    "from work.K3D_Data import *\n",
    "filename = '/home/jovyan/data.txt'\n",
    "prtmain(filename)"
   ]
  },
  {
   "cell_type": "code",
   "execution_count": 5,
   "metadata": {},
   "outputs": [
    {
     "name": "stdout",
     "output_type": "stream",
     "text": [
      "data.txt    HOW-TO.md\t K3D_Data.ipynb  MANIFEST.in\t   screenshot.png\r\n",
      "Dockerfile  index.ipynb  K3D.db\t\t README.md\t   setupbase.py\r\n",
      "docs\t    js\t\t lgtm.yml\t RELEASE.md\t   setup.cfg\r\n",
      "examples    k3d\t\t LICENSE.txt\t requirements.txt  setup.py\r\n"
     ]
    }
   ],
   "source": [
    "!ls"
   ]
  },
  {
   "cell_type": "code",
   "execution_count": 17,
   "metadata": {},
   "outputs": [
    {
     "name": "stdout",
     "output_type": "stream",
     "text": [
      "Help on module work.K3D_Data in work:\n",
      "\n",
      "NAME\n",
      "    work.K3D_Data\n",
      "\n",
      "FUNCTIONS\n",
      "    Dsearch()\n",
      "    \n",
      "    HELP()\n",
      "    \n",
      "    create()\n",
      "    \n",
      "    delete(rowid, conn=<sqlite3.Connection object at 0x7f3f13f63490>, c=<sqlite3.Cursor object at 0x7f3f1309cc70>)\n",
      "    \n",
      "    insert(data, conn=<sqlite3.Connection object at 0x7f3f13f63490>, c=<sqlite3.Cursor object at 0x7f3f1309cc70>)\n",
      "    \n",
      "    main()\n",
      "    \n",
      "    prtmain(filename)\n",
      "    \n",
      "    search(data, conn=<sqlite3.Connection object at 0x7f3f13f63490>, c=<sqlite3.Cursor object at 0x7f3f1309cc70>)\n",
      "\n",
      "DATA\n",
      "    c = <sqlite3.Cursor object>\n",
      "    conn = <sqlite3.Connection object>\n",
      "    mod = '-f'\n",
      "\n",
      "FILE\n",
      "    /home/jovyan/work/K3D_Data.py\n",
      "\n",
      "\n"
     ]
    }
   ],
   "source": [
    "import sys\n",
    "sys.path.insert(0, \"/home/jovyan\")\n",
    "from work import K3D_Data\n",
    "help(K3D_Data)"
   ]
  },
  {
   "cell_type": "code",
   "execution_count": 2,
   "metadata": {},
   "outputs": [
    {
     "name": "stdout",
     "output_type": "stream",
     "text": [
      "\n",
      "POST VERIFIED:\n",
      " 3 \n",
      "This is third\n",
      "Three line \n",
      "TEST\n",
      "\n"
     ]
    },
    {
     "data": {
      "text/plain": [
       "'\\nThis is third\\nThree line \\nTEST\\n'"
      ]
     },
     "execution_count": 2,
     "metadata": {},
     "output_type": "execute_result"
    }
   ],
   "source": [
    "import sys\n",
    "sys.path.insert(0, \"/home/jovyan\")\n",
    "from work.K3D_Data import *\n",
    "\n",
    "TEXT = \"\"\"\n",
    "is third\n",
    "Three line \n",
    "TEST\n",
    "\"\"\"\n",
    "insert(TEXT)"
   ]
  },
  {
   "cell_type": "code",
   "execution_count": null,
   "metadata": {},
   "outputs": [],
   "source": []
  }
 ],
 "metadata": {
  "kernelspec": {
   "display_name": "Python 3",
   "language": "python",
   "name": "python3"
  },
  "language_info": {
   "codemirror_mode": {
    "name": "ipython",
    "version": 3
   },
   "file_extension": ".py",
   "mimetype": "text/x-python",
   "name": "python",
   "nbconvert_exporter": "python",
   "pygments_lexer": "ipython3",
   "version": "3.6.2"
  }
 },
 "nbformat": 4,
 "nbformat_minor": 2
}
